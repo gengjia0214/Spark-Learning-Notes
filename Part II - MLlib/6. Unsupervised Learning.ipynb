{
 "cells": [
  {
   "cell_type": "markdown",
   "metadata": {},
   "source": [
    "# Spark Learning Note - Unsupervised Learning\n",
    "Jia Geng | gjia0214@gmail.com\n"
   ]
  },
  {
   "cell_type": "markdown",
   "metadata": {},
   "source": [
    "## 1. Spark Unsupervised Learning Algorithms\n",
    "\n",
    "- k-Means\n",
    "- Bisecting k-Means\n",
    "- Gaussian Mixture Models\n",
    "- Latent Dirichlet Allocation"
   ]
  },
  {
   "cell_type": "code",
   "execution_count": 1,
   "metadata": {},
   "outputs": [
    {
     "data": {
      "text/html": [
       "\n",
       "            <div>\n",
       "                <p><b>SparkSession - in-memory</b></p>\n",
       "                \n",
       "        <div>\n",
       "            <p><b>SparkContext</b></p>\n",
       "\n",
       "            <p><a href=\"http://unknown40A5EF2BBD8A:4040\">Spark UI</a></p>\n",
       "\n",
       "            <dl>\n",
       "              <dt>Version</dt>\n",
       "                <dd><code>v2.4.5</code></dd>\n",
       "              <dt>Master</dt>\n",
       "                <dd><code>local[*]</code></dd>\n",
       "              <dt>AppName</dt>\n",
       "                <dd><code>MLexample</code></dd>\n",
       "            </dl>\n",
       "        </div>\n",
       "        \n",
       "            </div>\n",
       "        "
      ],
      "text/plain": [
       "<pyspark.sql.session.SparkSession at 0x7f4ded0d3dd0>"
      ]
     },
     "execution_count": 1,
     "metadata": {},
     "output_type": "execute_result"
    }
   ],
   "source": [
    "from pyspark.sql.session import SparkSession\n",
    "\n",
    "spark = SparkSession.builder.appName('MLexample').getOrCreate()\n",
    "spark"
   ]
  },
  {
   "cell_type": "code",
   "execution_count": 3,
   "metadata": {},
   "outputs": [
    {
     "data": {
      "text/plain": [
       "541909"
      ]
     },
     "execution_count": 3,
     "metadata": {},
     "output_type": "execute_result"
    }
   ],
   "source": [
    "data_path = '/home/jgeng/Documents/Git/SparkLearning/book_data/retail-data/by-day' \n",
    "sales = spark.read.format('csv').option('header', True).option('inferSchema', True).load(data_path)  \n",
    "sales.cache()\n"
   ]
  },
  {
   "cell_type": "code",
   "execution_count": 9,
   "metadata": {},
   "outputs": [
    {
     "name": "stdout",
     "output_type": "stream",
     "text": [
      "root\n",
      " |-- InvoiceNo: string (nullable = true)\n",
      " |-- StockCode: string (nullable = true)\n",
      " |-- Description: string (nullable = true)\n",
      " |-- Quantity: integer (nullable = true)\n",
      " |-- InvoiceDate: timestamp (nullable = true)\n",
      " |-- UnitPrice: double (nullable = true)\n",
      " |-- CustomerID: double (nullable = true)\n",
      " |-- Country: string (nullable = true)\n",
      "\n",
      "+---------+---------+------------------+--------+-------------------+---------+----------+--------------+\n",
      "|InvoiceNo|StockCode|       Description|Quantity|        InvoiceDate|UnitPrice|CustomerID|       Country|\n",
      "+---------+---------+------------------+--------+-------------------+---------+----------+--------------+\n",
      "|   580538|    23084|RABBIT NIGHT LIGHT|      48|2011-12-05 08:38:00|     1.79|   14075.0|United Kingdom|\n",
      "+---------+---------+------------------+--------+-------------------+---------+----------+--------------+\n",
      "only showing top 1 row\n",
      "\n",
      "InvoiceNo column num of nulls: 0/541909\n",
      "StockCode column num of nulls: 0/541909\n",
      "Description column num of nulls: 1454/541909\n",
      "Quantity column num of nulls: 0/541909\n",
      "InvoiceDate column num of nulls: 0/541909\n",
      "UnitPrice column num of nulls: 0/541909\n",
      "CustomerID column num of nulls: 135080/541909\n",
      "Country column num of nulls: 0/541909\n"
     ]
    },
    {
     "data": {
      "text/plain": [
       "DataFrame[summary: string, InvoiceNo: string, StockCode: string, Description: string, Quantity: string, UnitPrice: string, CustomerID: string, Country: string]"
      ]
     },
     "execution_count": 9,
     "metadata": {},
     "output_type": "execute_result"
    }
   ],
   "source": [
    "# explore the data\n",
    "total = sales.count()\n",
    "sales.printSchema()\n",
    "sales.show(1)\n",
    "for col_name in sales.columns:\n",
    "    null_count = sales.where('{} is null'.format(col_name)).count()\n",
    "    print(\"{} column num of nulls: {}/{}\".format(col_name, null_count, total))"
   ]
  },
  {
   "cell_type": "code",
   "execution_count": 10,
   "metadata": {},
   "outputs": [
    {
     "name": "stdout",
     "output_type": "stream",
     "text": [
      "+-------+------------------+------------------+--------------------+-----------------+-----------------+------------------+-----------+\n",
      "|summary|         InvoiceNo|         StockCode|         Description|         Quantity|        UnitPrice|        CustomerID|    Country|\n",
      "+-------+------------------+------------------+--------------------+-----------------+-----------------+------------------+-----------+\n",
      "|  count|            541909|            541909|              540455|           541909|           541909|            406829|     541909|\n",
      "|   mean|  559965.752026781|27623.240210938104|             20713.0| 9.55224954743324|4.611113626089641|15287.690570239585|       null|\n",
      "| stddev|13428.417280796697|16799.737628427683|                 NaN|218.0811578502335|96.75985306117963| 1713.600303321597|       null|\n",
      "|    min|            536365|             10002| 4 PURPLE FLOCK D...|           -80995|        -11062.06|           12346.0|  Australia|\n",
      "|    25%|          547906.0|           21929.0|             20713.0|                1|             1.25|           13953.0|       null|\n",
      "|    50%|          560688.0|           22569.0|             20713.0|                3|             2.08|           15152.0|       null|\n",
      "|    75%|          571841.0|           23165.0|             20713.0|               10|             4.13|           16791.0|       null|\n",
      "|    max|           C581569|                 m|   wrongly sold sets|            80995|          38970.0|           18287.0|Unspecified|\n",
      "+-------+------------------+------------------+--------------------+-----------------+-----------------+------------------+-----------+\n",
      "\n"
     ]
    }
   ],
   "source": [
    "sales.summary().show()"
   ]
  },
  {
   "cell_type": "code",
   "execution_count": 22,
   "metadata": {},
   "outputs": [
    {
     "name": "stdout",
     "output_type": "stream",
     "text": [
      "+---------+----------+-----------+\n",
      "|InvoiceNo|CustomerID|   features|\n",
      "+---------+----------+-----------+\n",
      "|   580538|   14075.0|[48.0,1.79]|\n",
      "+---------+----------+-----------+\n",
      "only showing top 1 row\n",
      "\n"
     ]
    }
   ],
   "source": [
    "from pyspark.ml.feature import VectorAssembler\n",
    "\n",
    "# assemble data into a vector\n",
    "sales_vec = VectorAssembler().setInputCols(['Quantity', 'UnitPrice']).setOutputCol('features')\\\n",
    "                            .transform(sales.na.drop()).select('InvoiceNo', 'CustomerID', 'features')\n",
    "sales_vec.show(1)"
   ]
  },
  {
   "cell_type": "markdown",
   "metadata": {},
   "source": [
    "## 2. k-Means\n",
    "\n",
    "**k-means clustering is an NP-hard optimization problem.** A good approximation is the k-means++ algorithm. https://en.wikipedia.org/wiki/K-means%2B%2B.\n",
    "\n",
    "> The exact algorithm is as follows:\n",
    "- Choose one center uniformly at random among the data points.\n",
    "- For each data point x, compute D(x), the distance between x and the nearest center that has already been chosen.\n",
    "- Choose one new data point at random as a new center, using a weighted probability distribution where a point x is chosen with probability proportional to D(x)2.\n",
    "- Repeat Steps 2 and 3 until k centers have been chosen.\n",
    "- Now that the initial centers have been chosen, proceed using standard k-means clustering.\n",
    "\n",
    "\n",
    "**Model Hyperparams**\n",
    "\n",
    "The most important parameter is k.\n",
    "\n",
    "|Param|Input|Notes|\n",
    "|-|-|-|\n",
    "|k|int|number of clusters, default is 2\n",
    "|initMode|'random', 'k-means'|default is 'k-means', a parallel variant of k-means++\n",
    "|initSteps|int|default is 2, number of steps for k-means\n",
    "|maxIter|int|default is 2, max number of iterations\n",
    "|tol|float|convergence tolerance for iterative algorithm, default is 1e-4\n",
    "\n"
   ]
  },
  {
   "cell_type": "code",
   "execution_count": 11,
   "metadata": {},
   "outputs": [
    {
     "name": "stdout",
     "output_type": "stream",
     "text": [
      "distanceMeasure: the distance measure. Supported options: 'euclidean' and 'cosine'. (default: euclidean)\n",
      "featuresCol: features column name. (default: features)\n",
      "initMode: The initialization algorithm. This can be either \"random\" to choose random points as initial cluster centers, or \"k-means||\" to use a parallel variant of k-means++ (default: k-means||)\n",
      "initSteps: The number of steps for k-means|| initialization mode. Must be > 0. (default: 2)\n",
      "k: The number of clusters to create. Must be > 1. (default: 2)\n",
      "maxIter: max number of iterations (>= 0). (default: 20)\n",
      "predictionCol: prediction column name. (default: prediction)\n",
      "seed: random seed. (default: -3718451565329112106)\n",
      "tol: the convergence tolerance for iterative algorithms (>= 0). (default: 0.0001)\n"
     ]
    }
   ],
   "source": [
    "from pyspark.ml.clustering import KMeans\n",
    "\n",
    "print(KMeans().explainParams())"
   ]
  },
  {
   "cell_type": "code",
   "execution_count": 67,
   "metadata": {},
   "outputs": [],
   "source": [
    "kmeans = KMeans().setK(100).setInitSteps(50).setMaxIter(500)\n",
    "kmmodel = kmeans.fit(sales_vec)"
   ]
  },
  {
   "cell_type": "code",
   "execution_count": 68,
   "metadata": {},
   "outputs": [],
   "source": [
    "summary = kmmodel.summary\n",
    "??summary"
   ]
  },
  {
   "cell_type": "code",
   "execution_count": 69,
   "metadata": {},
   "outputs": [
    {
     "name": "stdout",
     "output_type": "stream",
     "text": [
      "+---------+----------+-----------+----------+\n",
      "|InvoiceNo|CustomerID|   features|prediction|\n",
      "+---------+----------+-----------+----------+\n",
      "|   580538|   14075.0|[48.0,1.79]|        73|\n",
      "|   580538|   14075.0|[20.0,1.25]|        94|\n",
      "|   580538|   14075.0|[24.0,1.65]|        14|\n",
      "+---------+----------+-----------+----------+\n",
      "only showing top 3 rows\n",
      "\n",
      "1683826.9533015746\n"
     ]
    },
    {
     "data": {
      "text/plain": [
       "1683826.9533015783"
      ]
     },
     "execution_count": 69,
     "metadata": {},
     "output_type": "execute_result"
    }
   ],
   "source": [
    "kmmodel.transform(sales_vec).show(3)\n",
    "print(summary.trainingCost)\n",
    "kmmodel.computeCost(sales_vec)"
   ]
  },
  {
   "cell_type": "code",
   "execution_count": 71,
   "metadata": {},
   "outputs": [],
   "source": [
    "centers = kmmodel.clusterCenters()"
   ]
  },
  {
   "cell_type": "markdown",
   "metadata": {},
   "source": [
    "## 2. Bisect k-Means\n",
    "\n",
    "Instead of the bottom-up approach, use top down approach: start with a single group then keep splitting the group until reach to the target number of groups. **Usually faster than the k-means but yields different results**.\n",
    "\n",
    "APIs are pretty much the same as K-Means\n",
    "\n",
    "**Model Hyperparams**\n",
    "\n",
    "|Param|Input|Notes|\n",
    "|-|-|-|\n",
    "|k|int|default is 4\n",
    "|maxIter|int|max number of iterations, default 20\n",
    "|minDivisibleClusterSize|int|The minimum number of points of a divisible cluster\n"
   ]
  },
  {
   "cell_type": "code",
   "execution_count": 72,
   "metadata": {},
   "outputs": [
    {
     "name": "stdout",
     "output_type": "stream",
     "text": [
      "distanceMeasure: the distance measure. Supported options: 'euclidean' and 'cosine'. (default: euclidean)\n",
      "featuresCol: features column name. (default: features)\n",
      "k: The desired number of leaf clusters. Must be > 1. (default: 4)\n",
      "maxIter: max number of iterations (>= 0). (default: 20)\n",
      "minDivisibleClusterSize: The minimum number of points (if >= 1.0) or the minimum proportion of points (if < 1.0) of a divisible cluster. (default: 1.0)\n",
      "predictionCol: prediction column name. (default: prediction)\n",
      "seed: random seed. (default: -1116325660993990397)\n"
     ]
    }
   ],
   "source": [
    "from pyspark.ml.clustering import BisectingKMeans\n",
    "print(BisectingKMeans().explainParams())"
   ]
  },
  {
   "cell_type": "markdown",
   "metadata": {},
   "source": [
    "## 3. Gaussian Mixture Model\n",
    "\n",
    "Goal is to reduce the sum of the squared distance from the center of the cluster. **GMM assume the data should be result from random draw from multiple Gaussian components. I.e., for each Gaussian Component, the data within it should be normally distributed**. Each Gaussian component can have different means, stds so that it could have different size and ellipsoid shape. \n",
    "\n",
    "**GMM is like a soft version of k-means. k-means creates a very rigid clusters, each point is only within one cluster. GMM allow for a more nuanced cluster associated with probabilities, instead of rigid boundaries.**\n",
    "\n",
    "**Model Hyperparams**\n",
    "\n",
    "|Param|Input|Notes|\n",
    "|-|-|-|\n",
    "|k|int|default is 4. most important\n",
    "|maxIter|int|max number of iterations, default 100. does not affect performace much\n",
    "|tol|float|convergence tolerance for iterative algorithm, default is 1e-2"
   ]
  },
  {
   "cell_type": "code",
   "execution_count": 76,
   "metadata": {},
   "outputs": [
    {
     "name": "stdout",
     "output_type": "stream",
     "text": [
      "featuresCol: features column name. (default: features)\n",
      "k: Number of independent Gaussians in the mixture model. Must be > 1. (default: 2)\n",
      "maxIter: max number of iterations (>= 0). (default: 100)\n",
      "predictionCol: prediction column name. (default: prediction)\n",
      "probabilityCol: Column name for predicted class conditional probabilities. Note: Not all models output well-calibrated probability estimates! These probabilities should be treated as confidences, not precise probabilities. (default: probability)\n",
      "seed: random seed. (default: -1473277178213100281)\n",
      "tol: the convergence tolerance for iterative algorithms (>= 0). (default: 0.01)\n"
     ]
    }
   ],
   "source": [
    "from pyspark.ml.clustering import GaussianMixture\n",
    "\n",
    "print(GaussianMixture().explainParams())"
   ]
  },
  {
   "cell_type": "code",
   "execution_count": 77,
   "metadata": {},
   "outputs": [],
   "source": [
    "gmm = GaussianMixture().setK(20)\n",
    "gmm_model = gmm.fit(sales_vec)"
   ]
  },
  {
   "cell_type": "code",
   "execution_count": 88,
   "metadata": {},
   "outputs": [
    {
     "name": "stdout",
     "output_type": "stream",
     "text": [
      "+---------+----------+-----------+----------+--------------------+\n",
      "|InvoiceNo|CustomerID|   features|prediction|         probability|\n",
      "+---------+----------+-----------+----------+--------------------+\n",
      "|   580538|   14075.0|[48.0,1.79]|        18|[1.99138136793025...|\n",
      "|   580538|   14075.0|[20.0,1.25]|        18|[1.59393645061588...|\n",
      "|   580538|   14075.0|[24.0,1.65]|        18|[1.61441707715752...|\n",
      "+---------+----------+-----------+----------+--------------------+\n",
      "only showing top 3 rows\n",
      "\n"
     ]
    }
   ],
   "source": [
    "gmm_model.transform(sales_vec).show(3)  # proba is just a confidence of belonging to each Gaussian"
   ]
  },
  {
   "cell_type": "code",
   "execution_count": 94,
   "metadata": {},
   "outputs": [
    {
     "name": "stdout",
     "output_type": "stream",
     "text": [
      "+--------------------+--------------------+\n",
      "|                mean|                 cov|\n",
      "+--------------------+--------------------+\n",
      "|[162.380218368691...|4.197210910517039...|\n",
      "|[162.380218368691...|4.197210910517039...|\n",
      "|[162.380218368942...|4.197210910517145...|\n",
      "+--------------------+--------------------+\n",
      "only showing top 3 rows\n",
      "\n"
     ]
    }
   ],
   "source": [
    "# get the gaussian componenets\n",
    "gmm_model.gaussiansDF.show(3)\n"
   ]
  },
  {
   "cell_type": "code",
   "execution_count": 96,
   "metadata": {},
   "outputs": [
    {
     "data": {
      "text/plain": [
       "[7.282617369738237e-07,\n",
       " 7.282617369738237e-07,\n",
       " 7.282617369739251e-07,\n",
       " 7.282617369738237e-07,\n",
       " 7.282617369738242e-07,\n",
       " 7.282617369738255e-07,\n",
       " 7.282617369738236e-07,\n",
       " 7.282617369738237e-07,\n",
       " 7.282617369738237e-07,\n",
       " 7.282617369738237e-07,\n",
       " 0.0001246244522596864,\n",
       " 7.282617369738237e-07,\n",
       " 7.282617370453267e-07,\n",
       " 7.282617369738251e-07,\n",
       " 7.282617369738242e-07,\n",
       " 7.282617369738237e-07,\n",
       " 7.282617369738236e-07,\n",
       " 7.282617369738259e-07,\n",
       " 0.9959187889813561,\n",
       " 0.003944206116855548]"
      ]
     },
     "execution_count": 96,
     "metadata": {},
     "output_type": "execute_result"
    }
   ],
   "source": [
    "??gmm_model.weights\n",
    "gmm_model.weights"
   ]
  },
  {
   "cell_type": "code",
   "execution_count": 92,
   "metadata": {},
   "outputs": [
    {
     "name": "stdout",
     "output_type": "stream",
     "text": [
      "+----------+\n",
      "|prediction|\n",
      "+----------+\n",
      "|        18|\n",
      "|        18|\n",
      "|        18|\n",
      "+----------+\n",
      "only showing top 3 rows\n",
      "\n",
      "+--------------------+\n",
      "|         probability|\n",
      "+--------------------+\n",
      "|[1.99138136793025...|\n",
      "|[1.59393645061588...|\n",
      "|[1.61441707715752...|\n",
      "+--------------------+\n",
      "only showing top 3 rows\n",
      "\n"
     ]
    }
   ],
   "source": [
    "# get the clustering results\n",
    "summary = gmm_model.summary\n",
    "summary.cluster.show(3)  # clustering result\n",
    "summary.probability.show(3) # proba results"
   ]
  },
  {
   "cell_type": "markdown",
   "metadata": {},
   "source": [
    "## 4. Latent Dirichlet Allocation\n",
    "\n"
   ]
  }
 ],
 "metadata": {
  "kernelspec": {
   "display_name": "Python 3",
   "language": "python",
   "name": "python3"
  },
  "language_info": {
   "codemirror_mode": {
    "name": "ipython",
    "version": 3
   },
   "file_extension": ".py",
   "mimetype": "text/x-python",
   "name": "python",
   "nbconvert_exporter": "python",
   "pygments_lexer": "ipython3",
   "version": "3.7.6"
  }
 },
 "nbformat": 4,
 "nbformat_minor": 4
}
