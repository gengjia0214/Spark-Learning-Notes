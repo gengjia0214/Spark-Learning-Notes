{
 "cells": [
  {
   "cell_type": "markdown",
   "metadata": {},
   "source": [
    "# Spark Learning Note - Unsupervised Learning\n",
    "Jia Geng | gjia0214@gmail.com\n"
   ]
  },
  {
   "cell_type": "markdown",
   "metadata": {},
   "source": [
    "<a id='directory'></a>\n",
    "\n",
    "## Directory\n",
    "\n",
    "- [Data Source](https://github.com/databricks/Spark-The-Definitive-Guide/tree/master/data/)\n",
    "- [1. Spark Unsupervised Learning Algorithms](#sec1)\n",
    "- [2. k-Means](#sec2)\n",
    "- [3. Bisect k-Means](#sec3)\n",
    "- [4. Gaussian Mixture Model](#sec4)\n",
    "- [5. Latent Dirichlet Allocation](#sec5)"
   ]
  },
  {
   "cell_type": "markdown",
   "metadata": {},
   "source": [
    "## 1. Spark Unsupervised Learning Algorithms <a id='sec1'></a>\n",
    "\n",
    "- k-Means\n",
    "- Bisecting k-Means\n",
    "- Gaussian Mixture Models\n",
    "- Latent Dirichlet Allocation\n",
    "\n",
    "[back to top](#directory)"
   ]
  },
  {
   "cell_type": "code",
   "execution_count": 1,
   "metadata": {},
   "outputs": [
    {
     "data": {
      "text/html": [
       "\n",
       "            <div>\n",
       "                <p><b>SparkSession - in-memory</b></p>\n",
       "                \n",
       "        <div>\n",
       "            <p><b>SparkContext</b></p>\n",
       "\n",
       "            <p><a href=\"http://unknown40A5EF2BBD8A:4040\">Spark UI</a></p>\n",
       "\n",
       "            <dl>\n",
       "              <dt>Version</dt>\n",
       "                <dd><code>v2.4.5</code></dd>\n",
       "              <dt>Master</dt>\n",
       "                <dd><code>local[*]</code></dd>\n",
       "              <dt>AppName</dt>\n",
       "                <dd><code>MLexample</code></dd>\n",
       "            </dl>\n",
       "        </div>\n",
       "        \n",
       "            </div>\n",
       "        "
      ],
      "text/plain": [
       "<pyspark.sql.session.SparkSession at 0x7f4ded0d3dd0>"
      ]
     },
     "execution_count": 1,
     "metadata": {},
     "output_type": "execute_result"
    }
   ],
   "source": [
    "from pyspark.sql.session import SparkSession\n",
    "\n",
    "spark = SparkSession.builder.appName('MLexample').getOrCreate()\n",
    "spark"
   ]
  },
  {
   "cell_type": "code",
   "execution_count": 3,
   "metadata": {},
   "outputs": [
    {
     "data": {
      "text/plain": [
       "541909"
      ]
     },
     "execution_count": 3,
     "metadata": {},
     "output_type": "execute_result"
    }
   ],
   "source": [
    "data_path = '/home/jgeng/Documents/Git/SparkLearning/book_data/retail-data/by-day' \n",
    "sales = spark.read.format('csv').option('header', True).option('inferSchema', True).load(data_path)  \n",
    "sales.cache()\n"
   ]
  },
  {
   "cell_type": "code",
   "execution_count": 9,
   "metadata": {},
   "outputs": [
    {
     "name": "stdout",
     "output_type": "stream",
     "text": [
      "root\n",
      " |-- InvoiceNo: string (nullable = true)\n",
      " |-- StockCode: string (nullable = true)\n",
      " |-- Description: string (nullable = true)\n",
      " |-- Quantity: integer (nullable = true)\n",
      " |-- InvoiceDate: timestamp (nullable = true)\n",
      " |-- UnitPrice: double (nullable = true)\n",
      " |-- CustomerID: double (nullable = true)\n",
      " |-- Country: string (nullable = true)\n",
      "\n",
      "+---------+---------+------------------+--------+-------------------+---------+----------+--------------+\n",
      "|InvoiceNo|StockCode|       Description|Quantity|        InvoiceDate|UnitPrice|CustomerID|       Country|\n",
      "+---------+---------+------------------+--------+-------------------+---------+----------+--------------+\n",
      "|   580538|    23084|RABBIT NIGHT LIGHT|      48|2011-12-05 08:38:00|     1.79|   14075.0|United Kingdom|\n",
      "+---------+---------+------------------+--------+-------------------+---------+----------+--------------+\n",
      "only showing top 1 row\n",
      "\n",
      "InvoiceNo column num of nulls: 0/541909\n",
      "StockCode column num of nulls: 0/541909\n",
      "Description column num of nulls: 1454/541909\n",
      "Quantity column num of nulls: 0/541909\n",
      "InvoiceDate column num of nulls: 0/541909\n",
      "UnitPrice column num of nulls: 0/541909\n",
      "CustomerID column num of nulls: 135080/541909\n",
      "Country column num of nulls: 0/541909\n"
     ]
    },
    {
     "data": {
      "text/plain": [
       "DataFrame[summary: string, InvoiceNo: string, StockCode: string, Description: string, Quantity: string, UnitPrice: string, CustomerID: string, Country: string]"
      ]
     },
     "execution_count": 9,
     "metadata": {},
     "output_type": "execute_result"
    }
   ],
   "source": [
    "# explore the data\n",
    "total = sales.count()\n",
    "sales.printSchema()\n",
    "sales.show(1)\n",
    "for col_name in sales.columns:\n",
    "    null_count = sales.where('{} is null'.format(col_name)).count()\n",
    "    print(\"{} column num of nulls: {}/{}\".format(col_name, null_count, total))"
   ]
  },
  {
   "cell_type": "code",
   "execution_count": 10,
   "metadata": {},
   "outputs": [
    {
     "name": "stdout",
     "output_type": "stream",
     "text": [
      "+-------+------------------+------------------+--------------------+-----------------+-----------------+------------------+-----------+\n",
      "|summary|         InvoiceNo|         StockCode|         Description|         Quantity|        UnitPrice|        CustomerID|    Country|\n",
      "+-------+------------------+------------------+--------------------+-----------------+-----------------+------------------+-----------+\n",
      "|  count|            541909|            541909|              540455|           541909|           541909|            406829|     541909|\n",
      "|   mean|  559965.752026781|27623.240210938104|             20713.0| 9.55224954743324|4.611113626089641|15287.690570239585|       null|\n",
      "| stddev|13428.417280796697|16799.737628427683|                 NaN|218.0811578502335|96.75985306117963| 1713.600303321597|       null|\n",
      "|    min|            536365|             10002| 4 PURPLE FLOCK D...|           -80995|        -11062.06|           12346.0|  Australia|\n",
      "|    25%|          547906.0|           21929.0|             20713.0|                1|             1.25|           13953.0|       null|\n",
      "|    50%|          560688.0|           22569.0|             20713.0|                3|             2.08|           15152.0|       null|\n",
      "|    75%|          571841.0|           23165.0|             20713.0|               10|             4.13|           16791.0|       null|\n",
      "|    max|           C581569|                 m|   wrongly sold sets|            80995|          38970.0|           18287.0|Unspecified|\n",
      "+-------+------------------+------------------+--------------------+-----------------+-----------------+------------------+-----------+\n",
      "\n"
     ]
    }
   ],
   "source": [
    "sales.summary().show()"
   ]
  },
  {
   "cell_type": "code",
   "execution_count": 22,
   "metadata": {},
   "outputs": [
    {
     "name": "stdout",
     "output_type": "stream",
     "text": [
      "+---------+----------+-----------+\n",
      "|InvoiceNo|CustomerID|   features|\n",
      "+---------+----------+-----------+\n",
      "|   580538|   14075.0|[48.0,1.79]|\n",
      "+---------+----------+-----------+\n",
      "only showing top 1 row\n",
      "\n"
     ]
    }
   ],
   "source": [
    "from pyspark.ml.feature import VectorAssembler\n",
    "\n",
    "# assemble data into a vector\n",
    "sales_vec = VectorAssembler().setInputCols(['Quantity', 'UnitPrice']).setOutputCol('features')\\\n",
    "                            .transform(sales.na.drop()).select('InvoiceNo', 'CustomerID', 'features')\n",
    "sales_vec.show(1)"
   ]
  },
  {
   "cell_type": "markdown",
   "metadata": {},
   "source": [
    "## 2. k-Means <a id='sec2'></a>\n",
    "\n",
    "**k-means clustering is an NP-hard optimization problem.** A good approximation is the k-means++ algorithm. https://en.wikipedia.org/wiki/K-means%2B%2B.\n",
    "\n",
    "> The exact algorithm is as follows:\n",
    "- Choose one center uniformly at random among the data points.\n",
    "- For each data point x, compute D(x), the distance between x and the nearest center that has already been chosen.\n",
    "- Choose one new data point at random as a new center, using a weighted probability distribution where a point x is chosen with probability proportional to D(x)2.\n",
    "- Repeat Steps 2 and 3 until k centers have been chosen.\n",
    "- Now that the initial centers have been chosen, proceed using standard k-means clustering.\n",
    "\n",
    "\n",
    "**Model Hyperparams**\n",
    "\n",
    "The most important parameter is k.\n",
    "\n",
    "|Param|Input|Notes|\n",
    "|-|-|-|\n",
    "|k|int|number of clusters, default is 2\n",
    "|initMode|'random', 'k-means'|default is 'k-means', a parallel variant of k-means++\n",
    "|initSteps|int|default is 2, number of steps for k-means\n",
    "|maxIter|int|default is 2, max number of iterations\n",
    "|tol|float|convergence tolerance for iterative algorithm, default is 1e-4\n",
    "\n",
    "\n",
    "[back to top](#directory)"
   ]
  },
  {
   "cell_type": "code",
   "execution_count": 11,
   "metadata": {},
   "outputs": [
    {
     "name": "stdout",
     "output_type": "stream",
     "text": [
      "distanceMeasure: the distance measure. Supported options: 'euclidean' and 'cosine'. (default: euclidean)\n",
      "featuresCol: features column name. (default: features)\n",
      "initMode: The initialization algorithm. This can be either \"random\" to choose random points as initial cluster centers, or \"k-means||\" to use a parallel variant of k-means++ (default: k-means||)\n",
      "initSteps: The number of steps for k-means|| initialization mode. Must be > 0. (default: 2)\n",
      "k: The number of clusters to create. Must be > 1. (default: 2)\n",
      "maxIter: max number of iterations (>= 0). (default: 20)\n",
      "predictionCol: prediction column name. (default: prediction)\n",
      "seed: random seed. (default: -3718451565329112106)\n",
      "tol: the convergence tolerance for iterative algorithms (>= 0). (default: 0.0001)\n"
     ]
    }
   ],
   "source": [
    "from pyspark.ml.clustering import KMeans\n",
    "\n",
    "print(KMeans().explainParams())"
   ]
  },
  {
   "cell_type": "code",
   "execution_count": 67,
   "metadata": {},
   "outputs": [],
   "source": [
    "kmeans = KMeans().setK(100).setInitSteps(50).setMaxIter(500)\n",
    "kmmodel = kmeans.fit(sales_vec)"
   ]
  },
  {
   "cell_type": "code",
   "execution_count": 68,
   "metadata": {},
   "outputs": [],
   "source": [
    "summary = kmmodel.summary\n",
    "??summary"
   ]
  },
  {
   "cell_type": "code",
   "execution_count": 69,
   "metadata": {},
   "outputs": [
    {
     "name": "stdout",
     "output_type": "stream",
     "text": [
      "+---------+----------+-----------+----------+\n",
      "|InvoiceNo|CustomerID|   features|prediction|\n",
      "+---------+----------+-----------+----------+\n",
      "|   580538|   14075.0|[48.0,1.79]|        73|\n",
      "|   580538|   14075.0|[20.0,1.25]|        94|\n",
      "|   580538|   14075.0|[24.0,1.65]|        14|\n",
      "+---------+----------+-----------+----------+\n",
      "only showing top 3 rows\n",
      "\n",
      "1683826.9533015746\n"
     ]
    },
    {
     "data": {
      "text/plain": [
       "1683826.9533015783"
      ]
     },
     "execution_count": 69,
     "metadata": {},
     "output_type": "execute_result"
    }
   ],
   "source": [
    "kmmodel.transform(sales_vec).show(3)\n",
    "print(summary.trainingCost)\n",
    "kmmodel.computeCost(sales_vec)"
   ]
  },
  {
   "cell_type": "code",
   "execution_count": 71,
   "metadata": {},
   "outputs": [],
   "source": [
    "centers = kmmodel.clusterCenters()"
   ]
  },
  {
   "cell_type": "markdown",
   "metadata": {},
   "source": [
    "## 3. Bisect k-Means <a id='sec3'></a>\n",
    "\n",
    "Instead of the bottom-up approach, use top down approach: start with a single group then keep splitting the group until reach to the target number of groups. **Usually faster than the k-means but yields different results**.\n",
    "\n",
    "APIs are pretty much the same as K-Means\n",
    "\n",
    "**Model Hyperparams**\n",
    "\n",
    "|Param|Input|Notes|\n",
    "|-|-|-|\n",
    "|k|int|default is 4\n",
    "|maxIter|int|max number of iterations, default 20\n",
    "|minDivisibleClusterSize|int|The minimum number of points of a divisible cluster\n",
    "\n",
    "[back to top](#directory)"
   ]
  },
  {
   "cell_type": "code",
   "execution_count": 72,
   "metadata": {},
   "outputs": [
    {
     "name": "stdout",
     "output_type": "stream",
     "text": [
      "distanceMeasure: the distance measure. Supported options: 'euclidean' and 'cosine'. (default: euclidean)\n",
      "featuresCol: features column name. (default: features)\n",
      "k: The desired number of leaf clusters. Must be > 1. (default: 4)\n",
      "maxIter: max number of iterations (>= 0). (default: 20)\n",
      "minDivisibleClusterSize: The minimum number of points (if >= 1.0) or the minimum proportion of points (if < 1.0) of a divisible cluster. (default: 1.0)\n",
      "predictionCol: prediction column name. (default: prediction)\n",
      "seed: random seed. (default: -1116325660993990397)\n"
     ]
    }
   ],
   "source": [
    "from pyspark.ml.clustering import BisectingKMeans\n",
    "print(BisectingKMeans().explainParams())"
   ]
  },
  {
   "cell_type": "markdown",
   "metadata": {},
   "source": [
    "## 4. Gaussian Mixture Model <a id='sec4'></a>\n",
    "\n",
    "Goal is to reduce the sum of the squared distance from the center of the cluster. **GMM assume the data should be result from random draw from multiple Gaussian components. I.e., for each Gaussian Component, the data within it should be normally distributed**. Each Gaussian component can have different means, stds so that it could have differen\n",
    "\n",
    "t size and ellipsoid shape. \n",
    "\n",
    "**GMM is like a soft version of k-means. k-means creates a very rigid clusters, each point is only within one cluster. GMM allow for a more nuanced cluster associated with probabilities, instead of rigid boundaries.**\n",
    "\n",
    "**Model Hyperparams**\n",
    "\n",
    "|Param|Input|Notes|\n",
    "|-|-|-|\n",
    "|k|int|default is 4. most important\n",
    "|maxIter|int|max number of iterations, default 100. does not affect performace much\n",
    "|tol|float|convergence tolerance for iterative algorithm, default is 1e-2\n",
    "\n",
    "[back to top](#directory)"
   ]
  },
  {
   "cell_type": "code",
   "execution_count": 76,
   "metadata": {},
   "outputs": [
    {
     "name": "stdout",
     "output_type": "stream",
     "text": [
      "featuresCol: features column name. (default: features)\n",
      "k: Number of independent Gaussians in the mixture model. Must be > 1. (default: 2)\n",
      "maxIter: max number of iterations (>= 0). (default: 100)\n",
      "predictionCol: prediction column name. (default: prediction)\n",
      "probabilityCol: Column name for predicted class conditional probabilities. Note: Not all models output well-calibrated probability estimates! These probabilities should be treated as confidences, not precise probabilities. (default: probability)\n",
      "seed: random seed. (default: -1473277178213100281)\n",
      "tol: the convergence tolerance for iterative algorithms (>= 0). (default: 0.01)\n"
     ]
    }
   ],
   "source": [
    "from pyspark.ml.clustering import GaussianMixture\n",
    "\n",
    "print(GaussianMixture().explainParams())"
   ]
  },
  {
   "cell_type": "code",
   "execution_count": 77,
   "metadata": {},
   "outputs": [],
   "source": [
    "gmm = GaussianMixture().setK(20)\n",
    "gmm_model = gmm.fit(sales_vec)"
   ]
  },
  {
   "cell_type": "code",
   "execution_count": 88,
   "metadata": {},
   "outputs": [
    {
     "name": "stdout",
     "output_type": "stream",
     "text": [
      "+---------+----------+-----------+----------+--------------------+\n",
      "|InvoiceNo|CustomerID|   features|prediction|         probability|\n",
      "+---------+----------+-----------+----------+--------------------+\n",
      "|   580538|   14075.0|[48.0,1.79]|        18|[1.99138136793025...|\n",
      "|   580538|   14075.0|[20.0,1.25]|        18|[1.59393645061588...|\n",
      "|   580538|   14075.0|[24.0,1.65]|        18|[1.61441707715752...|\n",
      "+---------+----------+-----------+----------+--------------------+\n",
      "only showing top 3 rows\n",
      "\n"
     ]
    }
   ],
   "source": [
    "gmm_model.transform(sales_vec).show(3)  # proba is just a confidence of belonging to each Gaussian"
   ]
  },
  {
   "cell_type": "code",
   "execution_count": 94,
   "metadata": {},
   "outputs": [
    {
     "name": "stdout",
     "output_type": "stream",
     "text": [
      "+--------------------+--------------------+\n",
      "|                mean|                 cov|\n",
      "+--------------------+--------------------+\n",
      "|[162.380218368691...|4.197210910517039...|\n",
      "|[162.380218368691...|4.197210910517039...|\n",
      "|[162.380218368942...|4.197210910517145...|\n",
      "+--------------------+--------------------+\n",
      "only showing top 3 rows\n",
      "\n"
     ]
    }
   ],
   "source": [
    "# get the gaussian componenets\n",
    "gmm_model.gaussiansDF.show(3)\n"
   ]
  },
  {
   "cell_type": "code",
   "execution_count": 96,
   "metadata": {},
   "outputs": [
    {
     "data": {
      "text/plain": [
       "[7.282617369738237e-07,\n",
       " 7.282617369738237e-07,\n",
       " 7.282617369739251e-07,\n",
       " 7.282617369738237e-07,\n",
       " 7.282617369738242e-07,\n",
       " 7.282617369738255e-07,\n",
       " 7.282617369738236e-07,\n",
       " 7.282617369738237e-07,\n",
       " 7.282617369738237e-07,\n",
       " 7.282617369738237e-07,\n",
       " 0.0001246244522596864,\n",
       " 7.282617369738237e-07,\n",
       " 7.282617370453267e-07,\n",
       " 7.282617369738251e-07,\n",
       " 7.282617369738242e-07,\n",
       " 7.282617369738237e-07,\n",
       " 7.282617369738236e-07,\n",
       " 7.282617369738259e-07,\n",
       " 0.9959187889813561,\n",
       " 0.003944206116855548]"
      ]
     },
     "execution_count": 96,
     "metadata": {},
     "output_type": "execute_result"
    }
   ],
   "source": [
    "??gmm_model.weights\n",
    "gmm_model.weights"
   ]
  },
  {
   "cell_type": "code",
   "execution_count": 92,
   "metadata": {},
   "outputs": [
    {
     "name": "stdout",
     "output_type": "stream",
     "text": [
      "+----------+\n",
      "|prediction|\n",
      "+----------+\n",
      "|        18|\n",
      "|        18|\n",
      "|        18|\n",
      "+----------+\n",
      "only showing top 3 rows\n",
      "\n",
      "+--------------------+\n",
      "|         probability|\n",
      "+--------------------+\n",
      "|[1.99138136793025...|\n",
      "|[1.59393645061588...|\n",
      "|[1.61441707715752...|\n",
      "+--------------------+\n",
      "only showing top 3 rows\n",
      "\n"
     ]
    }
   ],
   "source": [
    "# get the clustering results\n",
    "summary = gmm_model.summary\n",
    "summary.cluster.show(3)  # clustering result\n",
    "summary.probability.show(3) # proba results"
   ]
  },
  {
   "cell_type": "markdown",
   "metadata": {},
   "source": [
    "## 5. Latent Dirichlet Allocation <a id='sec5'></a>\n",
    "\n",
    "Latent Dirichlet Allocation is a hierarchical clustering model usually used to perform topic modeling on text documents. LDA tries to extract high-level topics of documents and keywords associated with those topics. It then inteprets each documents as having a variable number of contirbutions from multiple input topics. There are two implementations: \n",
    "- online LDA\n",
    "- EM (expectation maximization) LDA\n",
    "\n",
    "https://en.wikipedia.org/wiki/Latent_Dirichlet_allocation\n",
    "\n",
    "**Model Hyperparams**\n",
    "\n",
    "|Param|Input|Notes|\n",
    "|-|-|-|\n",
    "|docConcentration||Commonly named as alppha. Prior for dcouments's distributions over topics (as regularization). If not specified, will be set automatically\n",
    "|topicConcentration||Commonly named as beta or eta. Prior for topic's distribution over terms. If not specified, will be set automatically\n",
    "|maxIter|int|max number of iterations, default 20. does not affect performace much\n",
    "|optimization|'em', 'online'|Default is 'online'. Onelin usually outperform em.\n",
    "|learningDecay|float (0.5, 1.0]|Exponential decay rate. Default is 0.51.\n",
    "|learningOffset|float|A (positive) learning parameter that downweights early iterations. Larger values make early iterations count less (default: 1024.0)\n",
    "|subsamplingRate|float|Fraction of the corpus to be sampled and used in each iteration of mini-batch gradient descent, in range (0, 1]. (default: 0.05)\n",
    "\n",
    "**Prediction Parameter**\n",
    "\n",
    "|Param|Input|Notes|\n",
    "|-|-|-|\n",
    "|topicDistributionCol|str|The column that will hold the output of the topic mixture distribution for each document\n",
    "\n",
    "[back to top](#directory)"
   ]
  },
  {
   "cell_type": "code",
   "execution_count": 97,
   "metadata": {
    "scrolled": true
   },
   "outputs": [
    {
     "name": "stdout",
     "output_type": "stream",
     "text": [
      "checkpointInterval: set checkpoint interval (>= 1) or disable checkpoint (-1). E.g. 10 means that the cache will get checkpointed every 10 iterations. Note: this setting will be ignored if the checkpoint directory is not set in the SparkContext. (default: 10)\n",
      "docConcentration: Concentration parameter (commonly named \"alpha\") for the prior placed on documents' distributions over topics (\"theta\"). (undefined)\n",
      "featuresCol: features column name. (default: features)\n",
      "k: The number of topics (clusters) to infer. Must be > 1. (default: 10)\n",
      "keepLastCheckpoint: (For EM optimizer) If using checkpointing, this indicates whether to keep the last checkpoint. If false, then the checkpoint will be deleted. Deleting the checkpoint can cause failures if a data partition is lost, so set this bit with care. (default: True)\n",
      "learningDecay: Learning rate, set as anexponential decay rate. This should be between (0.5, 1.0] to guarantee asymptotic convergence. (default: 0.51)\n",
      "learningOffset: A (positive) learning parameter that downweights early iterations. Larger values make early iterations count less (default: 1024.0)\n",
      "maxIter: max number of iterations (>= 0). (default: 20)\n",
      "optimizeDocConcentration: Indicates whether the docConcentration (Dirichlet parameter for document-topic distribution) will be optimized during training. (default: True)\n",
      "optimizer: Optimizer or inference algorithm used to estimate the LDA model.  Supported: online, em (default: online)\n",
      "seed: random seed. (default: -949265716768701120)\n",
      "subsamplingRate: Fraction of the corpus to be sampled and used in each iteration of mini-batch gradient descent, in range (0, 1]. (default: 0.05)\n",
      "topicConcentration: Concentration parameter (commonly named \"beta\" or \"eta\") for the prior placed on topic' distributions over terms. (undefined)\n",
      "topicDistributionCol: Output column with estimates of the topic mixture distribution for each document (often called \"theta\" in the literature). Returns a vector of zeros for an empty document. (default: topicDistribution)\n"
     ]
    }
   ],
   "source": [
    "from pyspark.ml.clustering import LDA\n",
    "\n",
    "print(LDA().explainParams())"
   ]
  },
  {
   "cell_type": "code",
   "execution_count": 136,
   "metadata": {},
   "outputs": [
    {
     "name": "stdout",
     "output_type": "stream",
     "text": [
      "+---------+--------------------+\n",
      "|InvoiceNo|              tokens|\n",
      "+---------+--------------------+\n",
      "|   580538|[rabbit, night, l...|\n",
      "+---------+--------------------+\n",
      "only showing top 1 row\n",
      "\n",
      "+---------+--------------------+--------------------+\n",
      "|InvoiceNo|              tokens|            features|\n",
      "+---------+--------------------+--------------------+\n",
      "|   580538|[rabbit, night, l...|(500,[158,199,224...|\n",
      "+---------+--------------------+--------------------+\n",
      "only showing top 1 row\n",
      "\n"
     ]
    }
   ],
   "source": [
    "from pyspark.ml.feature import Tokenizer, CountVectorizer\n",
    "\n",
    "# transform description\n",
    "# don't forget to remove the nulls\n",
    "tkn = Tokenizer().setInputCol('Description').setOutputCol('tokens')\n",
    "tknDF = tkn.transform(sales.na.drop()).select('InvoiceNo', 'tokens')\n",
    "tknDF.show(1)\n",
    "\n",
    "# convert to coutn vectors\n",
    "# must renamed to features\n",
    "counter = CountVectorizer().setInputCol('tokens').setOutputCol('features')\\\n",
    "                            .setVocabSize(500).setBinary(True)    \n",
    "counterModel = counter.fit(tknDF)\n",
    "cntDF = counterModel.transform(tknDF)\n",
    "cntDF.show(1)\n",
    "\n",
    "# clustering using lda\n",
    "lda = LDA().setK(5).setMaxIter(10)\n",
    "ldaModel = lda.fit(cntDF)\n"
   ]
  },
  {
   "cell_type": "code",
   "execution_count": 137,
   "metadata": {},
   "outputs": [
    {
     "name": "stdout",
     "output_type": "stream",
     "text": [
      "+-----+--------------------+--------------------+\n",
      "|topic|         termIndices|         termWeights|\n",
      "+-----+--------------------+--------------------+\n",
      "|    0|[4, 20, 19, 23, 8...|[0.04680889359272...|\n",
      "|    1|[0, 1, 2, 4, 9, 1...|[0.05224728817550...|\n",
      "|    2|[1, 11, 5, 2, 22,...|[0.06127403098198...|\n",
      "|    3|[36, 39, 44, 0, 1...|[0.03872941707759...|\n",
      "|    4|[14, 21, 3, 32, 0...|[0.03875448353203...|\n",
      "+-----+--------------------+--------------------+\n",
      "\n"
     ]
    }
   ],
   "source": [
    "# top 5 topics\n",
    "ldaModel.describeTopics().show()"
   ]
  },
  {
   "cell_type": "code",
   "execution_count": 138,
   "metadata": {},
   "outputs": [
    {
     "name": "stdout",
     "output_type": "stream",
     "text": [
      "   topic                              termIndices  \\\n",
      "0      0     [4, 20, 19, 23, 8, 7, 2, 58, 62, 49]   \n",
      "1      1       [0, 1, 2, 4, 9, 12, 15, 6, 27, 26]   \n",
      "2      2       [1, 11, 5, 2, 22, 3, 28, 10, 6, 9]   \n",
      "3      3  [36, 39, 44, 0, 17, 68, 53, 101, 5, 89]   \n",
      "4      4    [14, 21, 3, 32, 0, 18, 63, 13, 5, 54]   \n",
      "\n",
      "                                         termWeights  \n",
      "0  [0.046808893592722944, 0.03858196436208082, 0....  \n",
      "1  [0.05224728817550236, 0.04286418530247717, 0.0...  \n",
      "2  [0.061274030981988366, 0.053000593467125816, 0...  \n",
      "3  [0.038729417077595446, 0.03786740361476374, 0....  \n",
      "4  [0.03875448353203486, 0.037391445284121416, 0....  \n"
     ]
    }
   ],
   "source": [
    "pandaDF = ldaModel.describeTopics().toPandas()\n",
    "print(pandaDF.head())"
   ]
  },
  {
   "cell_type": "code",
   "execution_count": 139,
   "metadata": {},
   "outputs": [
    {
     "name": "stdout",
     "output_type": "stream",
     "text": [
      "['set', 'of', 'bag', 'red', 'heart', 'retrospot', 'vintage', 'design', 'pink', 'christmas', 'box', 'cake', '', 'white', 'metal', 'jumbo', 'lunch', '3', 'blue', 'hanging']\n"
     ]
    }
   ],
   "source": [
    "vocab = counterModel.vocabulary\n",
    "print(vocab[:20])"
   ]
  },
  {
   "cell_type": "code",
   "execution_count": 140,
   "metadata": {},
   "outputs": [
    {
     "name": "stdout",
     "output_type": "stream",
     "text": [
      "Topic0's content is ['heart', 'holder', 'hanging', 't-light', 'pink', 'design', 'bag', 'feltcraft', 'assorted', 'doormat']\n",
      "Topic1's content is ['set', 'of', 'bag', 'heart', 'christmas', '', 'jumbo', 'vintage', '6', 'wooden']\n",
      "Topic2's content is ['of', 'cake', 'retrospot', 'bag', 'pack', 'red', 'cases', 'box', 'vintage', 'christmas']\n",
      "Topic3's content is ['bottle', 'hot', 'water', 'set', '3', 'kit', 'cream', 'warmer', 'retrospot', 'hand']\n",
      "Topic4's content is ['metal', 'sign', 'red', 'tea', 'set', 'blue', 'clock', 'white', 'retrospot', 'bunting']\n"
     ]
    }
   ],
   "source": [
    "for i in range(5):\n",
    "    topic = pandaDF.loc[i]['termIndices']\n",
    "    content = [vocab[i] for i in topic]\n",
    "    print('Topic{}\\'s content is {}'.format(i, content))"
   ]
  },
  {
   "cell_type": "code",
   "execution_count": null,
   "metadata": {},
   "outputs": [],
   "source": []
  }
 ],
 "metadata": {
  "kernelspec": {
   "display_name": "Python 3",
   "language": "python",
   "name": "python3"
  },
  "language_info": {
   "codemirror_mode": {
    "name": "ipython",
    "version": 3
   },
   "file_extension": ".py",
   "mimetype": "text/x-python",
   "name": "python",
   "nbconvert_exporter": "python",
   "pygments_lexer": "ipython3",
   "version": "3.7.6"
  }
 },
 "nbformat": 4,
 "nbformat_minor": 4
}
